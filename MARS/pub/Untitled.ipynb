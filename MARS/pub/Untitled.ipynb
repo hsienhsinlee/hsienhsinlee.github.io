{
 "cells": [
  {
   "cell_type": "code",
   "execution_count": 2,
   "metadata": {},
   "outputs": [],
   "source": [
    "import numpy as np"
   ]
  },
  {
   "cell_type": "code",
   "execution_count": 12,
   "metadata": {},
   "outputs": [
    {
     "name": "stdout",
     "output_type": "stream",
     "text": [
      "a= [-1 -7 -2 -4  1 -7  5  8  4 -1]\n"
     ]
    }
   ],
   "source": []
  },
  {
   "cell_type": "code",
   "execution_count": 18,
   "metadata": {},
   "outputs": [
    {
     "name": "stdout",
     "output_type": "stream",
     "text": [
      "a= [-5  2 -4 -4  9  4 -3 -7 -8 -7]\n",
      "b= [-5 -5 -2  1 -5 -3  2  3  3  4]\n",
      "[ 25 -10   8  -4 -45 -12  -6 -21 -24 -28]\n"
     ]
    }
   ],
   "source": [
    "a = np.random.randint(low=-10, high=10, size=10)\n",
    "print('a=',a)\n",
    "b = np.random.randint(low=-5, high=5, size=10)\n",
    "print('b=',b)\n",
    "c = np.multiply(a, b)\n",
    "print(c)"
   ]
  },
  {
   "cell_type": "code",
   "execution_count": null,
   "metadata": {},
   "outputs": [],
   "source": []
  }
 ],
 "metadata": {
  "kernelspec": {
   "display_name": "Python 3",
   "language": "python",
   "name": "python3"
  },
  "language_info": {
   "codemirror_mode": {
    "name": "ipython",
    "version": 3
   },
   "file_extension": ".py",
   "mimetype": "text/x-python",
   "name": "python",
   "nbconvert_exporter": "python",
   "pygments_lexer": "ipython3",
   "version": "3.7.3"
  }
 },
 "nbformat": 4,
 "nbformat_minor": 2
}
